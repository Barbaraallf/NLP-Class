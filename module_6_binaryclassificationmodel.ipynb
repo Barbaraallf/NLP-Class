{
  "nbformat": 4,
  "nbformat_minor": 0,
  "metadata": {
    "colab": {
      "provenance": [],
      "authorship_tag": "ABX9TyMNmmuqdx14i4Cy0tBt1jEm",
      "include_colab_link": true
    },
    "kernelspec": {
      "name": "python3",
      "display_name": "Python 3"
    },
    "language_info": {
      "name": "python"
    }
  },
  "cells": [
    {
      "cell_type": "markdown",
      "metadata": {
        "id": "view-in-github",
        "colab_type": "text"
      },
      "source": [
        "<a href=\"https://colab.research.google.com/github/bholistika/NLP-Class/blob/main/module_6_binaryclassificationmodel.ipynb\" target=\"_parent\"><img src=\"https://colab.research.google.com/assets/colab-badge.svg\" alt=\"Open In Colab\"/></a>"
      ]
    },
    {
      "cell_type": "code",
      "execution_count": 1,
      "metadata": {
        "id": "vXBlpxLjFC8w"
      },
      "outputs": [],
      "source": [
        "import pandas as pd\n",
        "from sklearn.model_selection import train_test_split\n",
        "from sklearn.preprocessing import StandardScaler\n",
        "import tensorflow as tf\n",
        "from tensorflow.keras.models import Sequential\n",
        "from tensorflow.keras.layers import Dense\n"
      ]
    },
    {
      "cell_type": "code",
      "source": [
        "url = 'https://raw.githubusercontent.com/bholistika/NLP-Class/main/wine.csv'\n",
        "df = pd.read_csv(url)\n",
        "\n",
        "# Map 'quality' to binary\n",
        "df['quality'] = df['quality'].map({'good': 1, 'bad': 0})\n"
      ],
      "metadata": {
        "id": "D3nz9YkkFVY5"
      },
      "execution_count": 2,
      "outputs": []
    },
    {
      "cell_type": "code",
      "source": [
        "X = df.drop('quality', axis=1)\n",
        "y = df['quality']\n",
        "\n",
        "X_train, X_test, y_train, y_test = train_test_split(X, y, test_size=0.2, random_state=42)\n",
        "\n",
        "scaler = StandardScaler()\n",
        "X_train_scaled = scaler.fit_transform(X_train)\n",
        "X_test_scaled = scaler.transform(X_test)\n"
      ],
      "metadata": {
        "id": "PK__Y_I3FZAq"
      },
      "execution_count": 3,
      "outputs": []
    },
    {
      "cell_type": "code",
      "source": [
        "model = Sequential([\n",
        "    Dense(128, activation='relu', input_shape=(X_train_scaled.shape[1],)),\n",
        "    Dense(64, activation='relu'),\n",
        "    Dense(1, activation='sigmoid')\n",
        "])\n",
        "\n",
        "model.compile(optimizer='adam', loss='binary_crossentropy', metrics=['accuracy'])\n"
      ],
      "metadata": {
        "id": "bjjw-ie2Fcwg"
      },
      "execution_count": 4,
      "outputs": []
    },
    {
      "cell_type": "code",
      "source": [
        "model.fit(X_train_scaled, y_train, epochs=100, batch_size=32, validation_split=0.2)\n"
      ],
      "metadata": {
        "colab": {
          "base_uri": "https://localhost:8080/"
        },
        "id": "-JIxD6poFilL",
        "outputId": "85cacf52-2546-4dfc-e3a1-2617bc1eab0a"
      },
      "execution_count": 5,
      "outputs": [
        {
          "output_type": "stream",
          "name": "stdout",
          "text": [
            "Epoch 1/100\n",
            "32/32 [==============================] - 3s 20ms/step - loss: 0.6241 - accuracy: 0.6647 - val_loss: 0.4860 - val_accuracy: 0.8242\n",
            "Epoch 2/100\n",
            "32/32 [==============================] - 0s 8ms/step - loss: 0.5389 - accuracy: 0.7283 - val_loss: 0.4413 - val_accuracy: 0.8203\n",
            "Epoch 3/100\n",
            "32/32 [==============================] - 0s 9ms/step - loss: 0.5216 - accuracy: 0.7439 - val_loss: 0.4388 - val_accuracy: 0.8125\n",
            "Epoch 4/100\n",
            "32/32 [==============================] - 0s 8ms/step - loss: 0.5118 - accuracy: 0.7478 - val_loss: 0.4423 - val_accuracy: 0.7891\n",
            "Epoch 5/100\n",
            "32/32 [==============================] - 0s 8ms/step - loss: 0.4973 - accuracy: 0.7507 - val_loss: 0.4325 - val_accuracy: 0.8125\n",
            "Epoch 6/100\n",
            "32/32 [==============================] - 0s 9ms/step - loss: 0.4921 - accuracy: 0.7654 - val_loss: 0.4289 - val_accuracy: 0.8164\n",
            "Epoch 7/100\n",
            "32/32 [==============================] - 0s 9ms/step - loss: 0.4834 - accuracy: 0.7654 - val_loss: 0.4246 - val_accuracy: 0.8203\n",
            "Epoch 8/100\n",
            "32/32 [==============================] - 0s 5ms/step - loss: 0.4772 - accuracy: 0.7713 - val_loss: 0.4336 - val_accuracy: 0.8086\n",
            "Epoch 9/100\n",
            "32/32 [==============================] - 0s 7ms/step - loss: 0.4714 - accuracy: 0.7742 - val_loss: 0.4355 - val_accuracy: 0.8047\n",
            "Epoch 10/100\n",
            "32/32 [==============================] - 0s 6ms/step - loss: 0.4692 - accuracy: 0.7810 - val_loss: 0.4340 - val_accuracy: 0.8125\n",
            "Epoch 11/100\n",
            "32/32 [==============================] - 0s 4ms/step - loss: 0.4607 - accuracy: 0.7801 - val_loss: 0.4443 - val_accuracy: 0.8086\n",
            "Epoch 12/100\n",
            "32/32 [==============================] - 0s 7ms/step - loss: 0.4548 - accuracy: 0.7820 - val_loss: 0.4323 - val_accuracy: 0.8086\n",
            "Epoch 13/100\n",
            "32/32 [==============================] - 0s 7ms/step - loss: 0.4494 - accuracy: 0.7869 - val_loss: 0.4352 - val_accuracy: 0.8086\n",
            "Epoch 14/100\n",
            "32/32 [==============================] - 0s 3ms/step - loss: 0.4485 - accuracy: 0.7810 - val_loss: 0.4399 - val_accuracy: 0.8086\n",
            "Epoch 15/100\n",
            "32/32 [==============================] - 0s 4ms/step - loss: 0.4427 - accuracy: 0.7869 - val_loss: 0.4360 - val_accuracy: 0.8125\n",
            "Epoch 16/100\n",
            "32/32 [==============================] - 0s 3ms/step - loss: 0.4398 - accuracy: 0.7879 - val_loss: 0.4347 - val_accuracy: 0.8164\n",
            "Epoch 17/100\n",
            "32/32 [==============================] - 0s 3ms/step - loss: 0.4356 - accuracy: 0.8016 - val_loss: 0.4371 - val_accuracy: 0.8086\n",
            "Epoch 18/100\n",
            "32/32 [==============================] - 0s 3ms/step - loss: 0.4310 - accuracy: 0.7996 - val_loss: 0.4422 - val_accuracy: 0.8008\n",
            "Epoch 19/100\n",
            "32/32 [==============================] - 0s 3ms/step - loss: 0.4262 - accuracy: 0.8045 - val_loss: 0.4572 - val_accuracy: 0.8008\n",
            "Epoch 20/100\n",
            "32/32 [==============================] - 0s 3ms/step - loss: 0.4298 - accuracy: 0.7918 - val_loss: 0.4365 - val_accuracy: 0.8125\n",
            "Epoch 21/100\n",
            "32/32 [==============================] - 0s 3ms/step - loss: 0.4119 - accuracy: 0.7996 - val_loss: 0.4471 - val_accuracy: 0.8203\n",
            "Epoch 22/100\n",
            "32/32 [==============================] - 0s 3ms/step - loss: 0.4137 - accuracy: 0.8035 - val_loss: 0.4444 - val_accuracy: 0.8047\n",
            "Epoch 23/100\n",
            "32/32 [==============================] - 0s 3ms/step - loss: 0.4079 - accuracy: 0.8045 - val_loss: 0.4442 - val_accuracy: 0.8086\n",
            "Epoch 24/100\n",
            "32/32 [==============================] - 0s 3ms/step - loss: 0.4022 - accuracy: 0.8133 - val_loss: 0.4420 - val_accuracy: 0.8086\n",
            "Epoch 25/100\n",
            "32/32 [==============================] - 0s 3ms/step - loss: 0.3969 - accuracy: 0.8182 - val_loss: 0.4346 - val_accuracy: 0.8008\n",
            "Epoch 26/100\n",
            "32/32 [==============================] - 0s 3ms/step - loss: 0.3950 - accuracy: 0.8172 - val_loss: 0.4410 - val_accuracy: 0.8008\n",
            "Epoch 27/100\n",
            "32/32 [==============================] - 0s 3ms/step - loss: 0.3886 - accuracy: 0.8231 - val_loss: 0.4383 - val_accuracy: 0.8047\n",
            "Epoch 28/100\n",
            "32/32 [==============================] - 0s 3ms/step - loss: 0.3847 - accuracy: 0.8231 - val_loss: 0.4442 - val_accuracy: 0.8086\n",
            "Epoch 29/100\n",
            "32/32 [==============================] - 0s 3ms/step - loss: 0.3814 - accuracy: 0.8221 - val_loss: 0.4444 - val_accuracy: 0.7969\n",
            "Epoch 30/100\n",
            "32/32 [==============================] - 0s 3ms/step - loss: 0.3763 - accuracy: 0.8270 - val_loss: 0.4333 - val_accuracy: 0.8047\n",
            "Epoch 31/100\n",
            "32/32 [==============================] - 0s 3ms/step - loss: 0.3723 - accuracy: 0.8280 - val_loss: 0.4606 - val_accuracy: 0.8008\n",
            "Epoch 32/100\n",
            "32/32 [==============================] - 0s 3ms/step - loss: 0.3660 - accuracy: 0.8436 - val_loss: 0.4396 - val_accuracy: 0.8008\n",
            "Epoch 33/100\n",
            "32/32 [==============================] - 0s 3ms/step - loss: 0.3598 - accuracy: 0.8426 - val_loss: 0.4409 - val_accuracy: 0.8008\n",
            "Epoch 34/100\n",
            "32/32 [==============================] - 0s 3ms/step - loss: 0.3553 - accuracy: 0.8446 - val_loss: 0.4507 - val_accuracy: 0.8086\n",
            "Epoch 35/100\n",
            "32/32 [==============================] - 0s 3ms/step - loss: 0.3549 - accuracy: 0.8436 - val_loss: 0.4442 - val_accuracy: 0.8047\n",
            "Epoch 36/100\n",
            "32/32 [==============================] - 0s 3ms/step - loss: 0.3518 - accuracy: 0.8446 - val_loss: 0.4454 - val_accuracy: 0.7773\n",
            "Epoch 37/100\n",
            "32/32 [==============================] - 0s 3ms/step - loss: 0.3468 - accuracy: 0.8504 - val_loss: 0.4380 - val_accuracy: 0.8086\n",
            "Epoch 38/100\n",
            "32/32 [==============================] - 0s 4ms/step - loss: 0.3455 - accuracy: 0.8504 - val_loss: 0.4620 - val_accuracy: 0.8125\n",
            "Epoch 39/100\n",
            "32/32 [==============================] - 0s 3ms/step - loss: 0.3342 - accuracy: 0.8534 - val_loss: 0.4525 - val_accuracy: 0.8047\n",
            "Epoch 40/100\n",
            "32/32 [==============================] - 0s 3ms/step - loss: 0.3362 - accuracy: 0.8514 - val_loss: 0.4588 - val_accuracy: 0.8125\n",
            "Epoch 41/100\n",
            "32/32 [==============================] - 0s 3ms/step - loss: 0.3309 - accuracy: 0.8592 - val_loss: 0.4506 - val_accuracy: 0.8164\n",
            "Epoch 42/100\n",
            "32/32 [==============================] - 0s 3ms/step - loss: 0.3319 - accuracy: 0.8602 - val_loss: 0.4489 - val_accuracy: 0.8164\n",
            "Epoch 43/100\n",
            "32/32 [==============================] - 0s 3ms/step - loss: 0.3155 - accuracy: 0.8661 - val_loss: 0.4463 - val_accuracy: 0.8125\n",
            "Epoch 44/100\n",
            "32/32 [==============================] - 0s 3ms/step - loss: 0.3178 - accuracy: 0.8631 - val_loss: 0.4651 - val_accuracy: 0.8086\n",
            "Epoch 45/100\n",
            "32/32 [==============================] - 0s 4ms/step - loss: 0.3159 - accuracy: 0.8612 - val_loss: 0.4552 - val_accuracy: 0.8203\n",
            "Epoch 46/100\n",
            "32/32 [==============================] - 0s 3ms/step - loss: 0.3113 - accuracy: 0.8690 - val_loss: 0.4524 - val_accuracy: 0.8008\n",
            "Epoch 47/100\n",
            "32/32 [==============================] - 0s 3ms/step - loss: 0.3016 - accuracy: 0.8719 - val_loss: 0.4525 - val_accuracy: 0.8164\n",
            "Epoch 48/100\n",
            "32/32 [==============================] - 0s 3ms/step - loss: 0.3072 - accuracy: 0.8641 - val_loss: 0.4757 - val_accuracy: 0.7969\n",
            "Epoch 49/100\n",
            "32/32 [==============================] - 0s 3ms/step - loss: 0.2956 - accuracy: 0.8759 - val_loss: 0.4437 - val_accuracy: 0.8242\n",
            "Epoch 50/100\n",
            "32/32 [==============================] - 0s 4ms/step - loss: 0.2967 - accuracy: 0.8719 - val_loss: 0.4798 - val_accuracy: 0.7891\n",
            "Epoch 51/100\n",
            "32/32 [==============================] - 0s 3ms/step - loss: 0.2904 - accuracy: 0.8778 - val_loss: 0.4647 - val_accuracy: 0.8086\n",
            "Epoch 52/100\n",
            "32/32 [==============================] - 0s 3ms/step - loss: 0.2849 - accuracy: 0.8817 - val_loss: 0.4626 - val_accuracy: 0.8203\n",
            "Epoch 53/100\n",
            "32/32 [==============================] - 0s 3ms/step - loss: 0.2873 - accuracy: 0.8847 - val_loss: 0.4570 - val_accuracy: 0.8203\n",
            "Epoch 54/100\n",
            "32/32 [==============================] - 0s 3ms/step - loss: 0.2752 - accuracy: 0.8886 - val_loss: 0.4847 - val_accuracy: 0.7891\n",
            "Epoch 55/100\n",
            "32/32 [==============================] - 0s 3ms/step - loss: 0.2739 - accuracy: 0.8837 - val_loss: 0.4654 - val_accuracy: 0.8125\n",
            "Epoch 56/100\n",
            "32/32 [==============================] - 0s 3ms/step - loss: 0.2703 - accuracy: 0.8944 - val_loss: 0.5029 - val_accuracy: 0.7891\n",
            "Epoch 57/100\n",
            "32/32 [==============================] - 0s 3ms/step - loss: 0.2660 - accuracy: 0.8935 - val_loss: 0.4775 - val_accuracy: 0.8008\n",
            "Epoch 58/100\n",
            "32/32 [==============================] - 0s 3ms/step - loss: 0.2640 - accuracy: 0.8935 - val_loss: 0.4814 - val_accuracy: 0.8047\n",
            "Epoch 59/100\n",
            "32/32 [==============================] - 0s 3ms/step - loss: 0.2585 - accuracy: 0.8974 - val_loss: 0.4823 - val_accuracy: 0.8086\n",
            "Epoch 60/100\n",
            "32/32 [==============================] - 0s 4ms/step - loss: 0.2656 - accuracy: 0.8876 - val_loss: 0.4730 - val_accuracy: 0.8164\n",
            "Epoch 61/100\n",
            "32/32 [==============================] - 0s 5ms/step - loss: 0.2540 - accuracy: 0.8915 - val_loss: 0.4938 - val_accuracy: 0.7930\n",
            "Epoch 62/100\n",
            "32/32 [==============================] - 0s 4ms/step - loss: 0.2495 - accuracy: 0.9013 - val_loss: 0.4996 - val_accuracy: 0.7930\n",
            "Epoch 63/100\n",
            "32/32 [==============================] - 0s 4ms/step - loss: 0.2478 - accuracy: 0.9042 - val_loss: 0.4804 - val_accuracy: 0.8164\n",
            "Epoch 64/100\n",
            "32/32 [==============================] - 0s 4ms/step - loss: 0.2520 - accuracy: 0.8974 - val_loss: 0.5044 - val_accuracy: 0.8047\n",
            "Epoch 65/100\n",
            "32/32 [==============================] - 0s 4ms/step - loss: 0.2498 - accuracy: 0.8964 - val_loss: 0.4771 - val_accuracy: 0.8008\n",
            "Epoch 66/100\n",
            "32/32 [==============================] - 0s 4ms/step - loss: 0.2347 - accuracy: 0.9169 - val_loss: 0.4759 - val_accuracy: 0.8086\n",
            "Epoch 67/100\n",
            "32/32 [==============================] - 0s 4ms/step - loss: 0.2286 - accuracy: 0.9140 - val_loss: 0.5076 - val_accuracy: 0.8047\n",
            "Epoch 68/100\n",
            "32/32 [==============================] - 0s 4ms/step - loss: 0.2271 - accuracy: 0.9150 - val_loss: 0.5032 - val_accuracy: 0.8125\n",
            "Epoch 69/100\n",
            "32/32 [==============================] - 0s 4ms/step - loss: 0.2275 - accuracy: 0.9238 - val_loss: 0.4873 - val_accuracy: 0.8125\n",
            "Epoch 70/100\n",
            "32/32 [==============================] - 0s 4ms/step - loss: 0.2183 - accuracy: 0.9159 - val_loss: 0.4819 - val_accuracy: 0.8242\n",
            "Epoch 71/100\n",
            "32/32 [==============================] - 0s 4ms/step - loss: 0.2167 - accuracy: 0.9267 - val_loss: 0.4824 - val_accuracy: 0.8203\n",
            "Epoch 72/100\n",
            "32/32 [==============================] - 0s 4ms/step - loss: 0.2114 - accuracy: 0.9257 - val_loss: 0.4958 - val_accuracy: 0.8047\n",
            "Epoch 73/100\n",
            "32/32 [==============================] - 0s 4ms/step - loss: 0.2128 - accuracy: 0.9179 - val_loss: 0.4808 - val_accuracy: 0.8164\n",
            "Epoch 74/100\n",
            "32/32 [==============================] - 0s 5ms/step - loss: 0.2094 - accuracy: 0.9286 - val_loss: 0.4973 - val_accuracy: 0.8164\n",
            "Epoch 75/100\n",
            "32/32 [==============================] - 0s 4ms/step - loss: 0.2027 - accuracy: 0.9267 - val_loss: 0.5509 - val_accuracy: 0.7852\n",
            "Epoch 76/100\n",
            "32/32 [==============================] - 0s 5ms/step - loss: 0.2039 - accuracy: 0.9238 - val_loss: 0.5048 - val_accuracy: 0.8164\n",
            "Epoch 77/100\n",
            "32/32 [==============================] - 0s 5ms/step - loss: 0.1924 - accuracy: 0.9286 - val_loss: 0.5022 - val_accuracy: 0.8125\n",
            "Epoch 78/100\n",
            "32/32 [==============================] - 0s 4ms/step - loss: 0.1956 - accuracy: 0.9306 - val_loss: 0.4915 - val_accuracy: 0.8086\n",
            "Epoch 79/100\n",
            "32/32 [==============================] - 0s 3ms/step - loss: 0.1903 - accuracy: 0.9365 - val_loss: 0.5239 - val_accuracy: 0.8047\n",
            "Epoch 80/100\n",
            "32/32 [==============================] - 0s 3ms/step - loss: 0.1937 - accuracy: 0.9335 - val_loss: 0.5039 - val_accuracy: 0.8164\n",
            "Epoch 81/100\n",
            "32/32 [==============================] - 0s 3ms/step - loss: 0.1900 - accuracy: 0.9306 - val_loss: 0.5092 - val_accuracy: 0.8125\n",
            "Epoch 82/100\n",
            "32/32 [==============================] - 0s 4ms/step - loss: 0.1785 - accuracy: 0.9374 - val_loss: 0.5351 - val_accuracy: 0.7891\n",
            "Epoch 83/100\n",
            "32/32 [==============================] - 0s 3ms/step - loss: 0.1787 - accuracy: 0.9384 - val_loss: 0.5328 - val_accuracy: 0.8008\n",
            "Epoch 84/100\n",
            "32/32 [==============================] - 0s 3ms/step - loss: 0.1838 - accuracy: 0.9374 - val_loss: 0.5025 - val_accuracy: 0.7969\n",
            "Epoch 85/100\n",
            "32/32 [==============================] - 0s 3ms/step - loss: 0.1747 - accuracy: 0.9394 - val_loss: 0.5292 - val_accuracy: 0.8086\n",
            "Epoch 86/100\n",
            "32/32 [==============================] - 0s 3ms/step - loss: 0.1728 - accuracy: 0.9404 - val_loss: 0.5204 - val_accuracy: 0.8086\n",
            "Epoch 87/100\n",
            "32/32 [==============================] - 0s 3ms/step - loss: 0.1785 - accuracy: 0.9413 - val_loss: 0.5427 - val_accuracy: 0.8008\n",
            "Epoch 88/100\n",
            "32/32 [==============================] - 0s 3ms/step - loss: 0.1699 - accuracy: 0.9423 - val_loss: 0.5389 - val_accuracy: 0.7930\n",
            "Epoch 89/100\n",
            "32/32 [==============================] - 0s 3ms/step - loss: 0.1681 - accuracy: 0.9453 - val_loss: 0.5875 - val_accuracy: 0.7891\n",
            "Epoch 90/100\n",
            "32/32 [==============================] - 0s 3ms/step - loss: 0.1645 - accuracy: 0.9462 - val_loss: 0.5615 - val_accuracy: 0.7852\n",
            "Epoch 91/100\n",
            "32/32 [==============================] - 0s 3ms/step - loss: 0.1655 - accuracy: 0.9443 - val_loss: 0.5388 - val_accuracy: 0.8164\n",
            "Epoch 92/100\n",
            "32/32 [==============================] - 0s 3ms/step - loss: 0.1597 - accuracy: 0.9482 - val_loss: 0.5384 - val_accuracy: 0.8086\n",
            "Epoch 93/100\n",
            "32/32 [==============================] - 0s 3ms/step - loss: 0.1566 - accuracy: 0.9511 - val_loss: 0.5644 - val_accuracy: 0.7969\n",
            "Epoch 94/100\n",
            "32/32 [==============================] - 0s 3ms/step - loss: 0.1536 - accuracy: 0.9511 - val_loss: 0.5647 - val_accuracy: 0.8086\n",
            "Epoch 95/100\n",
            "32/32 [==============================] - 0s 3ms/step - loss: 0.1646 - accuracy: 0.9413 - val_loss: 0.5537 - val_accuracy: 0.8086\n",
            "Epoch 96/100\n",
            "32/32 [==============================] - 0s 3ms/step - loss: 0.1527 - accuracy: 0.9541 - val_loss: 0.5765 - val_accuracy: 0.8125\n",
            "Epoch 97/100\n",
            "32/32 [==============================] - 0s 3ms/step - loss: 0.1459 - accuracy: 0.9580 - val_loss: 0.5824 - val_accuracy: 0.7969\n",
            "Epoch 98/100\n",
            "32/32 [==============================] - 0s 3ms/step - loss: 0.1558 - accuracy: 0.9482 - val_loss: 0.5461 - val_accuracy: 0.8125\n",
            "Epoch 99/100\n",
            "32/32 [==============================] - 0s 3ms/step - loss: 0.1462 - accuracy: 0.9599 - val_loss: 0.5836 - val_accuracy: 0.7969\n",
            "Epoch 100/100\n",
            "32/32 [==============================] - 0s 3ms/step - loss: 0.1382 - accuracy: 0.9589 - val_loss: 0.5562 - val_accuracy: 0.8086\n"
          ]
        },
        {
          "output_type": "execute_result",
          "data": {
            "text/plain": [
              "<keras.src.callbacks.History at 0x7f8b4eafb2b0>"
            ]
          },
          "metadata": {},
          "execution_count": 5
        }
      ]
    },
    {
      "cell_type": "code",
      "source": [
        "loss, accuracy = model.evaluate(X_test_scaled, y_test)\n",
        "print(f'Test loss: {loss}, Test accuracy: {accuracy}')\n"
      ],
      "metadata": {
        "colab": {
          "base_uri": "https://localhost:8080/"
        },
        "id": "E_tC5MX7FxXS",
        "outputId": "1c4166ef-6cf5-4f1b-c067-0220d72820c5"
      },
      "execution_count": 6,
      "outputs": [
        {
          "output_type": "stream",
          "name": "stdout",
          "text": [
            "10/10 [==============================] - 0s 2ms/step - loss: 0.5933 - accuracy: 0.7688\n",
            "Test loss: 0.5933225154876709, Test accuracy: 0.768750011920929\n"
          ]
        }
      ]
    }
  ]
}